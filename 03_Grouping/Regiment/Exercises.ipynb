{
 "cells": [
  {
   "cell_type": "markdown",
   "metadata": {},
   "source": [
    "# Regiment"
   ]
  },
  {
   "cell_type": "markdown",
   "metadata": {},
   "source": [
    "### Introduction:\n",
    "\n",
    "Special thanks to: http://chrisalbon.com/ for sharing the dataset and materials.\n",
    "\n",
    "### Step 1. Import the necessary libraries"
   ]
  },
  {
   "cell_type": "code",
   "execution_count": 2,
   "metadata": {
    "collapsed": false
   },
   "outputs": [],
   "source": [
    "import pandas as pd"
   ]
  },
  {
   "cell_type": "markdown",
   "metadata": {},
   "source": [
    "### Step 2. Create the DataFrame with the following values:"
   ]
  },
  {
   "cell_type": "code",
   "execution_count": 3,
   "metadata": {
    "collapsed": true
   },
   "outputs": [],
   "source": [
    "raw_data = {'regiment': ['Nighthawks', 'Nighthawks', 'Nighthawks', 'Nighthawks', 'Dragoons', 'Dragoons', 'Dragoons', 'Dragoons', 'Scouts', 'Scouts', 'Scouts', 'Scouts'], \n",
    "        'company': ['1st', '1st', '2nd', '2nd', '1st', '1st', '2nd', '2nd','1st', '1st', '2nd', '2nd'], \n",
    "        'name': ['Miller', 'Jacobson', 'Ali', 'Milner', 'Cooze', 'Jacon', 'Ryaner', 'Sone', 'Sloan', 'Piger', 'Riani', 'Ali'], \n",
    "        'preTestScore': [4, 24, 31, 2, 3, 4, 24, 31, 2, 3, 2, 3],\n",
    "        'postTestScore': [25, 94, 57, 62, 70, 25, 94, 57, 62, 70, 62, 70]}"
   ]
  },
  {
   "cell_type": "markdown",
   "metadata": {},
   "source": [
    "### Step 3. Assign it to a variable called regiment.\n",
    "#### Don't forget to name each column"
   ]
  },
  {
   "cell_type": "code",
   "execution_count": 4,
   "metadata": {
    "collapsed": false
   },
   "outputs": [
    {
     "data": {
      "application/vnd.microsoft.datawrangler.viewer.v0+json": {
       "columns": [
        {
         "name": "index",
         "rawType": "int64",
         "type": "integer"
        },
        {
         "name": "regiment",
         "rawType": "object",
         "type": "string"
        },
        {
         "name": "company",
         "rawType": "object",
         "type": "string"
        },
        {
         "name": "name",
         "rawType": "object",
         "type": "string"
        },
        {
         "name": "preTestScore",
         "rawType": "int64",
         "type": "integer"
        },
        {
         "name": "postTestScore",
         "rawType": "int64",
         "type": "integer"
        }
       ],
       "ref": "fe75f072-4379-41fd-91ca-027fca0aac23",
       "rows": [
        [
         "0",
         "Nighthawks",
         "1st",
         "Miller",
         "4",
         "25"
        ],
        [
         "1",
         "Nighthawks",
         "1st",
         "Jacobson",
         "24",
         "94"
        ],
        [
         "2",
         "Nighthawks",
         "2nd",
         "Ali",
         "31",
         "57"
        ],
        [
         "3",
         "Nighthawks",
         "2nd",
         "Milner",
         "2",
         "62"
        ],
        [
         "4",
         "Dragoons",
         "1st",
         "Cooze",
         "3",
         "70"
        ],
        [
         "5",
         "Dragoons",
         "1st",
         "Jacon",
         "4",
         "25"
        ],
        [
         "6",
         "Dragoons",
         "2nd",
         "Ryaner",
         "24",
         "94"
        ],
        [
         "7",
         "Dragoons",
         "2nd",
         "Sone",
         "31",
         "57"
        ],
        [
         "8",
         "Scouts",
         "1st",
         "Sloan",
         "2",
         "62"
        ],
        [
         "9",
         "Scouts",
         "1st",
         "Piger",
         "3",
         "70"
        ],
        [
         "10",
         "Scouts",
         "2nd",
         "Riani",
         "2",
         "62"
        ],
        [
         "11",
         "Scouts",
         "2nd",
         "Ali",
         "3",
         "70"
        ]
       ],
       "shape": {
        "columns": 5,
        "rows": 12
       }
      },
      "text/html": [
       "<div>\n",
       "<style scoped>\n",
       "    .dataframe tbody tr th:only-of-type {\n",
       "        vertical-align: middle;\n",
       "    }\n",
       "\n",
       "    .dataframe tbody tr th {\n",
       "        vertical-align: top;\n",
       "    }\n",
       "\n",
       "    .dataframe thead th {\n",
       "        text-align: right;\n",
       "    }\n",
       "</style>\n",
       "<table border=\"1\" class=\"dataframe\">\n",
       "  <thead>\n",
       "    <tr style=\"text-align: right;\">\n",
       "      <th></th>\n",
       "      <th>regiment</th>\n",
       "      <th>company</th>\n",
       "      <th>name</th>\n",
       "      <th>preTestScore</th>\n",
       "      <th>postTestScore</th>\n",
       "    </tr>\n",
       "  </thead>\n",
       "  <tbody>\n",
       "    <tr>\n",
       "      <th>0</th>\n",
       "      <td>Nighthawks</td>\n",
       "      <td>1st</td>\n",
       "      <td>Miller</td>\n",
       "      <td>4</td>\n",
       "      <td>25</td>\n",
       "    </tr>\n",
       "    <tr>\n",
       "      <th>1</th>\n",
       "      <td>Nighthawks</td>\n",
       "      <td>1st</td>\n",
       "      <td>Jacobson</td>\n",
       "      <td>24</td>\n",
       "      <td>94</td>\n",
       "    </tr>\n",
       "    <tr>\n",
       "      <th>2</th>\n",
       "      <td>Nighthawks</td>\n",
       "      <td>2nd</td>\n",
       "      <td>Ali</td>\n",
       "      <td>31</td>\n",
       "      <td>57</td>\n",
       "    </tr>\n",
       "    <tr>\n",
       "      <th>3</th>\n",
       "      <td>Nighthawks</td>\n",
       "      <td>2nd</td>\n",
       "      <td>Milner</td>\n",
       "      <td>2</td>\n",
       "      <td>62</td>\n",
       "    </tr>\n",
       "    <tr>\n",
       "      <th>4</th>\n",
       "      <td>Dragoons</td>\n",
       "      <td>1st</td>\n",
       "      <td>Cooze</td>\n",
       "      <td>3</td>\n",
       "      <td>70</td>\n",
       "    </tr>\n",
       "    <tr>\n",
       "      <th>5</th>\n",
       "      <td>Dragoons</td>\n",
       "      <td>1st</td>\n",
       "      <td>Jacon</td>\n",
       "      <td>4</td>\n",
       "      <td>25</td>\n",
       "    </tr>\n",
       "    <tr>\n",
       "      <th>6</th>\n",
       "      <td>Dragoons</td>\n",
       "      <td>2nd</td>\n",
       "      <td>Ryaner</td>\n",
       "      <td>24</td>\n",
       "      <td>94</td>\n",
       "    </tr>\n",
       "    <tr>\n",
       "      <th>7</th>\n",
       "      <td>Dragoons</td>\n",
       "      <td>2nd</td>\n",
       "      <td>Sone</td>\n",
       "      <td>31</td>\n",
       "      <td>57</td>\n",
       "    </tr>\n",
       "    <tr>\n",
       "      <th>8</th>\n",
       "      <td>Scouts</td>\n",
       "      <td>1st</td>\n",
       "      <td>Sloan</td>\n",
       "      <td>2</td>\n",
       "      <td>62</td>\n",
       "    </tr>\n",
       "    <tr>\n",
       "      <th>9</th>\n",
       "      <td>Scouts</td>\n",
       "      <td>1st</td>\n",
       "      <td>Piger</td>\n",
       "      <td>3</td>\n",
       "      <td>70</td>\n",
       "    </tr>\n",
       "    <tr>\n",
       "      <th>10</th>\n",
       "      <td>Scouts</td>\n",
       "      <td>2nd</td>\n",
       "      <td>Riani</td>\n",
       "      <td>2</td>\n",
       "      <td>62</td>\n",
       "    </tr>\n",
       "    <tr>\n",
       "      <th>11</th>\n",
       "      <td>Scouts</td>\n",
       "      <td>2nd</td>\n",
       "      <td>Ali</td>\n",
       "      <td>3</td>\n",
       "      <td>70</td>\n",
       "    </tr>\n",
       "  </tbody>\n",
       "</table>\n",
       "</div>"
      ],
      "text/plain": [
       "      regiment company      name  preTestScore  postTestScore\n",
       "0   Nighthawks     1st    Miller             4             25\n",
       "1   Nighthawks     1st  Jacobson            24             94\n",
       "2   Nighthawks     2nd       Ali            31             57\n",
       "3   Nighthawks     2nd    Milner             2             62\n",
       "4     Dragoons     1st     Cooze             3             70\n",
       "5     Dragoons     1st     Jacon             4             25\n",
       "6     Dragoons     2nd    Ryaner            24             94\n",
       "7     Dragoons     2nd      Sone            31             57\n",
       "8       Scouts     1st     Sloan             2             62\n",
       "9       Scouts     1st     Piger             3             70\n",
       "10      Scouts     2nd     Riani             2             62\n",
       "11      Scouts     2nd       Ali             3             70"
      ]
     },
     "execution_count": 4,
     "metadata": {},
     "output_type": "execute_result"
    }
   ],
   "source": [
    "regiment = pd.DataFrame(data=raw_data)\n",
    "regiment"
   ]
  },
  {
   "cell_type": "markdown",
   "metadata": {},
   "source": [
    "### Step 4. What is the mean preTestScore from the regiment Nighthawks?  "
   ]
  },
  {
   "cell_type": "code",
   "execution_count": 5,
   "metadata": {
    "collapsed": false
   },
   "outputs": [
    {
     "data": {
      "application/vnd.microsoft.datawrangler.viewer.v0+json": {
       "columns": [
        {
         "name": "regiment",
         "rawType": "object",
         "type": "string"
        },
        {
         "name": "preTestScore",
         "rawType": "float64",
         "type": "float"
        }
       ],
       "ref": "119fc5f3-8dbe-4bd5-a51c-30af6004c21f",
       "rows": [
        [
         "Nighthawks",
         "15.25"
        ]
       ],
       "shape": {
        "columns": 1,
        "rows": 1
       }
      },
      "text/plain": [
       "regiment\n",
       "Nighthawks    15.25\n",
       "Name: preTestScore, dtype: float64"
      ]
     },
     "execution_count": 5,
     "metadata": {},
     "output_type": "execute_result"
    }
   ],
   "source": [
    "regiment[regiment['regiment'] == 'Nighthawks'].groupby('regiment').preTestScore.mean()"
   ]
  },
  {
   "cell_type": "markdown",
   "metadata": {},
   "source": [
    "### Step 5. Present general statistics by company"
   ]
  },
  {
   "cell_type": "code",
   "execution_count": 6,
   "metadata": {
    "collapsed": false
   },
   "outputs": [
    {
     "data": {
      "application/vnd.microsoft.datawrangler.viewer.v0+json": {
       "columns": [
        {
         "name": "company",
         "rawType": "object",
         "type": "string"
        },
        {
         "name": "('preTestScore', 'count')",
         "rawType": "float64",
         "type": "float"
        },
        {
         "name": "('preTestScore', 'mean')",
         "rawType": "float64",
         "type": "float"
        },
        {
         "name": "('preTestScore', 'std')",
         "rawType": "float64",
         "type": "float"
        },
        {
         "name": "('preTestScore', 'min')",
         "rawType": "float64",
         "type": "float"
        },
        {
         "name": "('preTestScore', '25%')",
         "rawType": "float64",
         "type": "float"
        },
        {
         "name": "('preTestScore', '50%')",
         "rawType": "float64",
         "type": "float"
        },
        {
         "name": "('preTestScore', '75%')",
         "rawType": "float64",
         "type": "float"
        },
        {
         "name": "('preTestScore', 'max')",
         "rawType": "float64",
         "type": "float"
        },
        {
         "name": "('postTestScore', 'count')",
         "rawType": "float64",
         "type": "float"
        },
        {
         "name": "('postTestScore', 'mean')",
         "rawType": "float64",
         "type": "float"
        },
        {
         "name": "('postTestScore', 'std')",
         "rawType": "float64",
         "type": "float"
        },
        {
         "name": "('postTestScore', 'min')",
         "rawType": "float64",
         "type": "float"
        },
        {
         "name": "('postTestScore', '25%')",
         "rawType": "float64",
         "type": "float"
        },
        {
         "name": "('postTestScore', '50%')",
         "rawType": "float64",
         "type": "float"
        },
        {
         "name": "('postTestScore', '75%')",
         "rawType": "float64",
         "type": "float"
        },
        {
         "name": "('postTestScore', 'max')",
         "rawType": "float64",
         "type": "float"
        }
       ],
       "ref": "8fd8e792-8bcd-4365-b7f0-3f47a98b9871",
       "rows": [
        [
         "1st",
         "6.0",
         "6.666666666666667",
         "8.524474568362947",
         "2.0",
         "3.0",
         "3.5",
         "4.0",
         "24.0",
         "6.0",
         "57.666666666666664",
         "27.48575388572536",
         "25.0",
         "34.25",
         "66.0",
         "70.0",
         "94.0"
        ],
        [
         "2nd",
         "6.0",
         "15.5",
         "14.652644812456213",
         "2.0",
         "2.25",
         "13.5",
         "29.25",
         "31.0",
         "6.0",
         "67.0",
         "14.057026712644463",
         "57.0",
         "58.25",
         "62.0",
         "68.0",
         "94.0"
        ]
       ],
       "shape": {
        "columns": 16,
        "rows": 2
       }
      },
      "text/html": [
       "<div>\n",
       "<style scoped>\n",
       "    .dataframe tbody tr th:only-of-type {\n",
       "        vertical-align: middle;\n",
       "    }\n",
       "\n",
       "    .dataframe tbody tr th {\n",
       "        vertical-align: top;\n",
       "    }\n",
       "\n",
       "    .dataframe thead tr th {\n",
       "        text-align: left;\n",
       "    }\n",
       "\n",
       "    .dataframe thead tr:last-of-type th {\n",
       "        text-align: right;\n",
       "    }\n",
       "</style>\n",
       "<table border=\"1\" class=\"dataframe\">\n",
       "  <thead>\n",
       "    <tr>\n",
       "      <th></th>\n",
       "      <th colspan=\"8\" halign=\"left\">preTestScore</th>\n",
       "      <th colspan=\"8\" halign=\"left\">postTestScore</th>\n",
       "    </tr>\n",
       "    <tr>\n",
       "      <th></th>\n",
       "      <th>count</th>\n",
       "      <th>mean</th>\n",
       "      <th>std</th>\n",
       "      <th>min</th>\n",
       "      <th>25%</th>\n",
       "      <th>50%</th>\n",
       "      <th>75%</th>\n",
       "      <th>max</th>\n",
       "      <th>count</th>\n",
       "      <th>mean</th>\n",
       "      <th>std</th>\n",
       "      <th>min</th>\n",
       "      <th>25%</th>\n",
       "      <th>50%</th>\n",
       "      <th>75%</th>\n",
       "      <th>max</th>\n",
       "    </tr>\n",
       "    <tr>\n",
       "      <th>company</th>\n",
       "      <th></th>\n",
       "      <th></th>\n",
       "      <th></th>\n",
       "      <th></th>\n",
       "      <th></th>\n",
       "      <th></th>\n",
       "      <th></th>\n",
       "      <th></th>\n",
       "      <th></th>\n",
       "      <th></th>\n",
       "      <th></th>\n",
       "      <th></th>\n",
       "      <th></th>\n",
       "      <th></th>\n",
       "      <th></th>\n",
       "      <th></th>\n",
       "    </tr>\n",
       "  </thead>\n",
       "  <tbody>\n",
       "    <tr>\n",
       "      <th>1st</th>\n",
       "      <td>6.0</td>\n",
       "      <td>6.666667</td>\n",
       "      <td>8.524475</td>\n",
       "      <td>2.0</td>\n",
       "      <td>3.00</td>\n",
       "      <td>3.5</td>\n",
       "      <td>4.00</td>\n",
       "      <td>24.0</td>\n",
       "      <td>6.0</td>\n",
       "      <td>57.666667</td>\n",
       "      <td>27.485754</td>\n",
       "      <td>25.0</td>\n",
       "      <td>34.25</td>\n",
       "      <td>66.0</td>\n",
       "      <td>70.0</td>\n",
       "      <td>94.0</td>\n",
       "    </tr>\n",
       "    <tr>\n",
       "      <th>2nd</th>\n",
       "      <td>6.0</td>\n",
       "      <td>15.500000</td>\n",
       "      <td>14.652645</td>\n",
       "      <td>2.0</td>\n",
       "      <td>2.25</td>\n",
       "      <td>13.5</td>\n",
       "      <td>29.25</td>\n",
       "      <td>31.0</td>\n",
       "      <td>6.0</td>\n",
       "      <td>67.000000</td>\n",
       "      <td>14.057027</td>\n",
       "      <td>57.0</td>\n",
       "      <td>58.25</td>\n",
       "      <td>62.0</td>\n",
       "      <td>68.0</td>\n",
       "      <td>94.0</td>\n",
       "    </tr>\n",
       "  </tbody>\n",
       "</table>\n",
       "</div>"
      ],
      "text/plain": [
       "        preTestScore                                                      \\\n",
       "               count       mean        std  min   25%   50%    75%   max   \n",
       "company                                                                    \n",
       "1st              6.0   6.666667   8.524475  2.0  3.00   3.5   4.00  24.0   \n",
       "2nd              6.0  15.500000  14.652645  2.0  2.25  13.5  29.25  31.0   \n",
       "\n",
       "        postTestScore                                                       \n",
       "                count       mean        std   min    25%   50%   75%   max  \n",
       "company                                                                     \n",
       "1st               6.0  57.666667  27.485754  25.0  34.25  66.0  70.0  94.0  \n",
       "2nd               6.0  67.000000  14.057027  57.0  58.25  62.0  68.0  94.0  "
      ]
     },
     "execution_count": 6,
     "metadata": {},
     "output_type": "execute_result"
    }
   ],
   "source": [
    "regiment.groupby('company').describe()"
   ]
  },
  {
   "cell_type": "markdown",
   "metadata": {},
   "source": [
    "### Step 6. What is the mean of each company's preTestScore?"
   ]
  },
  {
   "cell_type": "code",
   "execution_count": 7,
   "metadata": {
    "collapsed": false
   },
   "outputs": [
    {
     "data": {
      "application/vnd.microsoft.datawrangler.viewer.v0+json": {
       "columns": [
        {
         "name": "company",
         "rawType": "object",
         "type": "string"
        },
        {
         "name": "preTestScore",
         "rawType": "float64",
         "type": "float"
        }
       ],
       "ref": "35d61929-58c8-40e8-a012-d362b4e6320f",
       "rows": [
        [
         "1st",
         "6.666666666666667"
        ],
        [
         "2nd",
         "15.5"
        ]
       ],
       "shape": {
        "columns": 1,
        "rows": 2
       }
      },
      "text/plain": [
       "company\n",
       "1st     6.666667\n",
       "2nd    15.500000\n",
       "Name: preTestScore, dtype: float64"
      ]
     },
     "execution_count": 7,
     "metadata": {},
     "output_type": "execute_result"
    }
   ],
   "source": [
    "regiment.groupby('company').preTestScore.mean()"
   ]
  },
  {
   "cell_type": "markdown",
   "metadata": {},
   "source": [
    "### Step 7. Present the mean preTestScores grouped by regiment and company"
   ]
  },
  {
   "cell_type": "code",
   "execution_count": 8,
   "metadata": {
    "collapsed": false
   },
   "outputs": [
    {
     "data": {
      "application/vnd.microsoft.datawrangler.viewer.v0+json": {
       "columns": [
        {
         "name": "('regiment', 'company')",
         "rawType": "object",
         "type": "unknown"
        },
        {
         "name": "preTestScore",
         "rawType": "float64",
         "type": "float"
        }
       ],
       "ref": "4258054e-169c-45dd-8173-650d06124c3e",
       "rows": [
        [
         "('Dragoons', '1st')",
         "3.5"
        ],
        [
         "('Dragoons', '2nd')",
         "27.5"
        ],
        [
         "('Nighthawks', '1st')",
         "14.0"
        ],
        [
         "('Nighthawks', '2nd')",
         "16.5"
        ],
        [
         "('Scouts', '1st')",
         "2.5"
        ],
        [
         "('Scouts', '2nd')",
         "2.5"
        ]
       ],
       "shape": {
        "columns": 1,
        "rows": 6
       }
      },
      "text/plain": [
       "regiment    company\n",
       "Dragoons    1st         3.5\n",
       "            2nd        27.5\n",
       "Nighthawks  1st        14.0\n",
       "            2nd        16.5\n",
       "Scouts      1st         2.5\n",
       "            2nd         2.5\n",
       "Name: preTestScore, dtype: float64"
      ]
     },
     "execution_count": 8,
     "metadata": {},
     "output_type": "execute_result"
    }
   ],
   "source": [
    "regiment.groupby(['regiment','company']).preTestScore.mean()"
   ]
  },
  {
   "cell_type": "markdown",
   "metadata": {},
   "source": [
    "### Step 8. Present the mean preTestScores grouped by regiment and company without heirarchical indexing"
   ]
  },
  {
   "cell_type": "code",
   "execution_count": 9,
   "metadata": {
    "collapsed": false
   },
   "outputs": [
    {
     "data": {
      "application/vnd.microsoft.datawrangler.viewer.v0+json": {
       "columns": [
        {
         "name": "regiment",
         "rawType": "object",
         "type": "string"
        },
        {
         "name": "1st",
         "rawType": "float64",
         "type": "float"
        },
        {
         "name": "2nd",
         "rawType": "float64",
         "type": "float"
        }
       ],
       "ref": "f665db87-cfa6-4012-b404-87e443bd778c",
       "rows": [
        [
         "Dragoons",
         "3.5",
         "27.5"
        ],
        [
         "Nighthawks",
         "14.0",
         "16.5"
        ],
        [
         "Scouts",
         "2.5",
         "2.5"
        ]
       ],
       "shape": {
        "columns": 2,
        "rows": 3
       }
      },
      "text/html": [
       "<div>\n",
       "<style scoped>\n",
       "    .dataframe tbody tr th:only-of-type {\n",
       "        vertical-align: middle;\n",
       "    }\n",
       "\n",
       "    .dataframe tbody tr th {\n",
       "        vertical-align: top;\n",
       "    }\n",
       "\n",
       "    .dataframe thead th {\n",
       "        text-align: right;\n",
       "    }\n",
       "</style>\n",
       "<table border=\"1\" class=\"dataframe\">\n",
       "  <thead>\n",
       "    <tr style=\"text-align: right;\">\n",
       "      <th>company</th>\n",
       "      <th>1st</th>\n",
       "      <th>2nd</th>\n",
       "    </tr>\n",
       "    <tr>\n",
       "      <th>regiment</th>\n",
       "      <th></th>\n",
       "      <th></th>\n",
       "    </tr>\n",
       "  </thead>\n",
       "  <tbody>\n",
       "    <tr>\n",
       "      <th>Dragoons</th>\n",
       "      <td>3.5</td>\n",
       "      <td>27.5</td>\n",
       "    </tr>\n",
       "    <tr>\n",
       "      <th>Nighthawks</th>\n",
       "      <td>14.0</td>\n",
       "      <td>16.5</td>\n",
       "    </tr>\n",
       "    <tr>\n",
       "      <th>Scouts</th>\n",
       "      <td>2.5</td>\n",
       "      <td>2.5</td>\n",
       "    </tr>\n",
       "  </tbody>\n",
       "</table>\n",
       "</div>"
      ],
      "text/plain": [
       "company      1st   2nd\n",
       "regiment              \n",
       "Dragoons     3.5  27.5\n",
       "Nighthawks  14.0  16.5\n",
       "Scouts       2.5   2.5"
      ]
     },
     "execution_count": 9,
     "metadata": {},
     "output_type": "execute_result"
    }
   ],
   "source": [
    "regiment.groupby(['regiment','company']).preTestScore.mean().unstack()"
   ]
  },
  {
   "cell_type": "markdown",
   "metadata": {},
   "source": [
    "### Step 9. Group the entire dataframe by regiment and company"
   ]
  },
  {
   "cell_type": "code",
   "execution_count": 10,
   "metadata": {
    "collapsed": false
   },
   "outputs": [
    {
     "data": {
      "application/vnd.microsoft.datawrangler.viewer.v0+json": {
       "columns": [
        {
         "name": "('regiment', 'company')",
         "rawType": "object",
         "type": "unknown"
        },
        {
         "name": "('preTestScore', 'count')",
         "rawType": "float64",
         "type": "float"
        },
        {
         "name": "('preTestScore', 'mean')",
         "rawType": "float64",
         "type": "float"
        },
        {
         "name": "('preTestScore', 'std')",
         "rawType": "float64",
         "type": "float"
        },
        {
         "name": "('preTestScore', 'min')",
         "rawType": "float64",
         "type": "float"
        },
        {
         "name": "('preTestScore', '25%')",
         "rawType": "float64",
         "type": "float"
        },
        {
         "name": "('preTestScore', '50%')",
         "rawType": "float64",
         "type": "float"
        },
        {
         "name": "('preTestScore', '75%')",
         "rawType": "float64",
         "type": "float"
        },
        {
         "name": "('preTestScore', 'max')",
         "rawType": "float64",
         "type": "float"
        },
        {
         "name": "('postTestScore', 'count')",
         "rawType": "float64",
         "type": "float"
        },
        {
         "name": "('postTestScore', 'mean')",
         "rawType": "float64",
         "type": "float"
        },
        {
         "name": "('postTestScore', 'std')",
         "rawType": "float64",
         "type": "float"
        },
        {
         "name": "('postTestScore', 'min')",
         "rawType": "float64",
         "type": "float"
        },
        {
         "name": "('postTestScore', '25%')",
         "rawType": "float64",
         "type": "float"
        },
        {
         "name": "('postTestScore', '50%')",
         "rawType": "float64",
         "type": "float"
        },
        {
         "name": "('postTestScore', '75%')",
         "rawType": "float64",
         "type": "float"
        },
        {
         "name": "('postTestScore', 'max')",
         "rawType": "float64",
         "type": "float"
        }
       ],
       "ref": "0630309c-47f3-46cb-a091-4106c7c64d04",
       "rows": [
        [
         "('Dragoons', '1st')",
         "2.0",
         "3.5",
         "0.7071067811865476",
         "3.0",
         "3.25",
         "3.5",
         "3.75",
         "4.0",
         "2.0",
         "47.5",
         "31.81980515339464",
         "25.0",
         "36.25",
         "47.5",
         "58.75",
         "70.0"
        ],
        [
         "('Dragoons', '2nd')",
         "2.0",
         "27.5",
         "4.949747468305833",
         "24.0",
         "25.75",
         "27.5",
         "29.25",
         "31.0",
         "2.0",
         "75.5",
         "26.16295090390226",
         "57.0",
         "66.25",
         "75.5",
         "84.75",
         "94.0"
        ],
        [
         "('Nighthawks', '1st')",
         "2.0",
         "14.0",
         "14.142135623730951",
         "4.0",
         "9.0",
         "14.0",
         "19.0",
         "24.0",
         "2.0",
         "59.5",
         "48.79036790187178",
         "25.0",
         "42.25",
         "59.5",
         "76.75",
         "94.0"
        ],
        [
         "('Nighthawks', '2nd')",
         "2.0",
         "16.5",
         "20.506096654409877",
         "2.0",
         "9.25",
         "16.5",
         "23.75",
         "31.0",
         "2.0",
         "59.5",
         "3.5355339059327378",
         "57.0",
         "58.25",
         "59.5",
         "60.75",
         "62.0"
        ],
        [
         "('Scouts', '1st')",
         "2.0",
         "2.5",
         "0.7071067811865476",
         "2.0",
         "2.25",
         "2.5",
         "2.75",
         "3.0",
         "2.0",
         "66.0",
         "5.656854249492381",
         "62.0",
         "64.0",
         "66.0",
         "68.0",
         "70.0"
        ],
        [
         "('Scouts', '2nd')",
         "2.0",
         "2.5",
         "0.7071067811865476",
         "2.0",
         "2.25",
         "2.5",
         "2.75",
         "3.0",
         "2.0",
         "66.0",
         "5.656854249492381",
         "62.0",
         "64.0",
         "66.0",
         "68.0",
         "70.0"
        ]
       ],
       "shape": {
        "columns": 16,
        "rows": 6
       }
      },
      "text/html": [
       "<div>\n",
       "<style scoped>\n",
       "    .dataframe tbody tr th:only-of-type {\n",
       "        vertical-align: middle;\n",
       "    }\n",
       "\n",
       "    .dataframe tbody tr th {\n",
       "        vertical-align: top;\n",
       "    }\n",
       "\n",
       "    .dataframe thead tr th {\n",
       "        text-align: left;\n",
       "    }\n",
       "\n",
       "    .dataframe thead tr:last-of-type th {\n",
       "        text-align: right;\n",
       "    }\n",
       "</style>\n",
       "<table border=\"1\" class=\"dataframe\">\n",
       "  <thead>\n",
       "    <tr>\n",
       "      <th></th>\n",
       "      <th></th>\n",
       "      <th colspan=\"8\" halign=\"left\">preTestScore</th>\n",
       "      <th colspan=\"8\" halign=\"left\">postTestScore</th>\n",
       "    </tr>\n",
       "    <tr>\n",
       "      <th></th>\n",
       "      <th></th>\n",
       "      <th>count</th>\n",
       "      <th>mean</th>\n",
       "      <th>std</th>\n",
       "      <th>min</th>\n",
       "      <th>25%</th>\n",
       "      <th>50%</th>\n",
       "      <th>75%</th>\n",
       "      <th>max</th>\n",
       "      <th>count</th>\n",
       "      <th>mean</th>\n",
       "      <th>std</th>\n",
       "      <th>min</th>\n",
       "      <th>25%</th>\n",
       "      <th>50%</th>\n",
       "      <th>75%</th>\n",
       "      <th>max</th>\n",
       "    </tr>\n",
       "    <tr>\n",
       "      <th>regiment</th>\n",
       "      <th>company</th>\n",
       "      <th></th>\n",
       "      <th></th>\n",
       "      <th></th>\n",
       "      <th></th>\n",
       "      <th></th>\n",
       "      <th></th>\n",
       "      <th></th>\n",
       "      <th></th>\n",
       "      <th></th>\n",
       "      <th></th>\n",
       "      <th></th>\n",
       "      <th></th>\n",
       "      <th></th>\n",
       "      <th></th>\n",
       "      <th></th>\n",
       "      <th></th>\n",
       "    </tr>\n",
       "  </thead>\n",
       "  <tbody>\n",
       "    <tr>\n",
       "      <th rowspan=\"2\" valign=\"top\">Dragoons</th>\n",
       "      <th>1st</th>\n",
       "      <td>2.0</td>\n",
       "      <td>3.5</td>\n",
       "      <td>0.707107</td>\n",
       "      <td>3.0</td>\n",
       "      <td>3.25</td>\n",
       "      <td>3.5</td>\n",
       "      <td>3.75</td>\n",
       "      <td>4.0</td>\n",
       "      <td>2.0</td>\n",
       "      <td>47.5</td>\n",
       "      <td>31.819805</td>\n",
       "      <td>25.0</td>\n",
       "      <td>36.25</td>\n",
       "      <td>47.5</td>\n",
       "      <td>58.75</td>\n",
       "      <td>70.0</td>\n",
       "    </tr>\n",
       "    <tr>\n",
       "      <th>2nd</th>\n",
       "      <td>2.0</td>\n",
       "      <td>27.5</td>\n",
       "      <td>4.949747</td>\n",
       "      <td>24.0</td>\n",
       "      <td>25.75</td>\n",
       "      <td>27.5</td>\n",
       "      <td>29.25</td>\n",
       "      <td>31.0</td>\n",
       "      <td>2.0</td>\n",
       "      <td>75.5</td>\n",
       "      <td>26.162951</td>\n",
       "      <td>57.0</td>\n",
       "      <td>66.25</td>\n",
       "      <td>75.5</td>\n",
       "      <td>84.75</td>\n",
       "      <td>94.0</td>\n",
       "    </tr>\n",
       "    <tr>\n",
       "      <th rowspan=\"2\" valign=\"top\">Nighthawks</th>\n",
       "      <th>1st</th>\n",
       "      <td>2.0</td>\n",
       "      <td>14.0</td>\n",
       "      <td>14.142136</td>\n",
       "      <td>4.0</td>\n",
       "      <td>9.00</td>\n",
       "      <td>14.0</td>\n",
       "      <td>19.00</td>\n",
       "      <td>24.0</td>\n",
       "      <td>2.0</td>\n",
       "      <td>59.5</td>\n",
       "      <td>48.790368</td>\n",
       "      <td>25.0</td>\n",
       "      <td>42.25</td>\n",
       "      <td>59.5</td>\n",
       "      <td>76.75</td>\n",
       "      <td>94.0</td>\n",
       "    </tr>\n",
       "    <tr>\n",
       "      <th>2nd</th>\n",
       "      <td>2.0</td>\n",
       "      <td>16.5</td>\n",
       "      <td>20.506097</td>\n",
       "      <td>2.0</td>\n",
       "      <td>9.25</td>\n",
       "      <td>16.5</td>\n",
       "      <td>23.75</td>\n",
       "      <td>31.0</td>\n",
       "      <td>2.0</td>\n",
       "      <td>59.5</td>\n",
       "      <td>3.535534</td>\n",
       "      <td>57.0</td>\n",
       "      <td>58.25</td>\n",
       "      <td>59.5</td>\n",
       "      <td>60.75</td>\n",
       "      <td>62.0</td>\n",
       "    </tr>\n",
       "    <tr>\n",
       "      <th rowspan=\"2\" valign=\"top\">Scouts</th>\n",
       "      <th>1st</th>\n",
       "      <td>2.0</td>\n",
       "      <td>2.5</td>\n",
       "      <td>0.707107</td>\n",
       "      <td>2.0</td>\n",
       "      <td>2.25</td>\n",
       "      <td>2.5</td>\n",
       "      <td>2.75</td>\n",
       "      <td>3.0</td>\n",
       "      <td>2.0</td>\n",
       "      <td>66.0</td>\n",
       "      <td>5.656854</td>\n",
       "      <td>62.0</td>\n",
       "      <td>64.00</td>\n",
       "      <td>66.0</td>\n",
       "      <td>68.00</td>\n",
       "      <td>70.0</td>\n",
       "    </tr>\n",
       "    <tr>\n",
       "      <th>2nd</th>\n",
       "      <td>2.0</td>\n",
       "      <td>2.5</td>\n",
       "      <td>0.707107</td>\n",
       "      <td>2.0</td>\n",
       "      <td>2.25</td>\n",
       "      <td>2.5</td>\n",
       "      <td>2.75</td>\n",
       "      <td>3.0</td>\n",
       "      <td>2.0</td>\n",
       "      <td>66.0</td>\n",
       "      <td>5.656854</td>\n",
       "      <td>62.0</td>\n",
       "      <td>64.00</td>\n",
       "      <td>66.0</td>\n",
       "      <td>68.00</td>\n",
       "      <td>70.0</td>\n",
       "    </tr>\n",
       "  </tbody>\n",
       "</table>\n",
       "</div>"
      ],
      "text/plain": [
       "                   preTestScore                                             \\\n",
       "                          count  mean        std   min    25%   50%    75%   \n",
       "regiment   company                                                           \n",
       "Dragoons   1st              2.0   3.5   0.707107   3.0   3.25   3.5   3.75   \n",
       "           2nd              2.0  27.5   4.949747  24.0  25.75  27.5  29.25   \n",
       "Nighthawks 1st              2.0  14.0  14.142136   4.0   9.00  14.0  19.00   \n",
       "           2nd              2.0  16.5  20.506097   2.0   9.25  16.5  23.75   \n",
       "Scouts     1st              2.0   2.5   0.707107   2.0   2.25   2.5   2.75   \n",
       "           2nd              2.0   2.5   0.707107   2.0   2.25   2.5   2.75   \n",
       "\n",
       "                         postTestScore                                      \\\n",
       "                     max         count  mean        std   min    25%   50%   \n",
       "regiment   company                                                           \n",
       "Dragoons   1st       4.0           2.0  47.5  31.819805  25.0  36.25  47.5   \n",
       "           2nd      31.0           2.0  75.5  26.162951  57.0  66.25  75.5   \n",
       "Nighthawks 1st      24.0           2.0  59.5  48.790368  25.0  42.25  59.5   \n",
       "           2nd      31.0           2.0  59.5   3.535534  57.0  58.25  59.5   \n",
       "Scouts     1st       3.0           2.0  66.0   5.656854  62.0  64.00  66.0   \n",
       "           2nd       3.0           2.0  66.0   5.656854  62.0  64.00  66.0   \n",
       "\n",
       "                                 \n",
       "                      75%   max  \n",
       "regiment   company               \n",
       "Dragoons   1st      58.75  70.0  \n",
       "           2nd      84.75  94.0  \n",
       "Nighthawks 1st      76.75  94.0  \n",
       "           2nd      60.75  62.0  \n",
       "Scouts     1st      68.00  70.0  \n",
       "           2nd      68.00  70.0  "
      ]
     },
     "execution_count": 10,
     "metadata": {},
     "output_type": "execute_result"
    }
   ],
   "source": [
    "regiment.groupby(['regiment', 'company']).describe()"
   ]
  },
  {
   "cell_type": "markdown",
   "metadata": {},
   "source": [
    "### Step 10. What is the number of observations in each regiment and company"
   ]
  },
  {
   "cell_type": "code",
   "execution_count": 11,
   "metadata": {
    "collapsed": false
   },
   "outputs": [
    {
     "data": {
      "application/vnd.microsoft.datawrangler.viewer.v0+json": {
       "columns": [
        {
         "name": "('company', 'regiment')",
         "rawType": "object",
         "type": "unknown"
        },
        {
         "name": "0",
         "rawType": "int64",
         "type": "integer"
        }
       ],
       "ref": "e10f232d-74ec-4fb0-8512-877574f67504",
       "rows": [
        [
         "('1st', 'Dragoons')",
         "2"
        ],
        [
         "('1st', 'Nighthawks')",
         "2"
        ],
        [
         "('1st', 'Scouts')",
         "2"
        ],
        [
         "('2nd', 'Dragoons')",
         "2"
        ],
        [
         "('2nd', 'Nighthawks')",
         "2"
        ],
        [
         "('2nd', 'Scouts')",
         "2"
        ]
       ],
       "shape": {
        "columns": 1,
        "rows": 6
       }
      },
      "text/plain": [
       "company  regiment  \n",
       "1st      Dragoons      2\n",
       "         Nighthawks    2\n",
       "         Scouts        2\n",
       "2nd      Dragoons      2\n",
       "         Nighthawks    2\n",
       "         Scouts        2\n",
       "dtype: int64"
      ]
     },
     "execution_count": 11,
     "metadata": {},
     "output_type": "execute_result"
    }
   ],
   "source": [
    "regiment.groupby(['company', 'regiment']).size()"
   ]
  },
  {
   "cell_type": "markdown",
   "metadata": {},
   "source": [
    "### Step 11. Iterate over a group and print the name and the whole data from the regiment"
   ]
  },
  {
   "cell_type": "code",
   "execution_count": 12,
   "metadata": {
    "collapsed": false
   },
   "outputs": [
    {
     "name": "stdout",
     "output_type": "stream",
     "text": [
      "Dragoons\n",
      "   regiment company    name  preTestScore  postTestScore\n",
      "4  Dragoons     1st   Cooze             3             70\n",
      "5  Dragoons     1st   Jacon             4             25\n",
      "6  Dragoons     2nd  Ryaner            24             94\n",
      "7  Dragoons     2nd    Sone            31             57\n",
      "Nighthawks\n",
      "     regiment company      name  preTestScore  postTestScore\n",
      "0  Nighthawks     1st    Miller             4             25\n",
      "1  Nighthawks     1st  Jacobson            24             94\n",
      "2  Nighthawks     2nd       Ali            31             57\n",
      "3  Nighthawks     2nd    Milner             2             62\n",
      "Scouts\n",
      "   regiment company   name  preTestScore  postTestScore\n",
      "8    Scouts     1st  Sloan             2             62\n",
      "9    Scouts     1st  Piger             3             70\n",
      "10   Scouts     2nd  Riani             2             62\n",
      "11   Scouts     2nd    Ali             3             70\n"
     ]
    }
   ],
   "source": [
    "# Group the dataframe by regiment, and for each regiment,\n",
    "for name, group in regiment.groupby('regiment'):\n",
    "    # print the name of the regiment\n",
    "    print(name)\n",
    "    # print the data of that regiment\n",
    "    print(group)"
   ]
  }
 ],
 "metadata": {
  "kernelspec": {
   "display_name": ".venv",
   "language": "python",
   "name": "python3"
  },
  "language_info": {
   "codemirror_mode": {
    "name": "ipython",
    "version": 3
   },
   "file_extension": ".py",
   "mimetype": "text/x-python",
   "name": "python",
   "nbconvert_exporter": "python",
   "pygments_lexer": "ipython3",
   "version": "3.12.3"
  }
 },
 "nbformat": 4,
 "nbformat_minor": 0
}
