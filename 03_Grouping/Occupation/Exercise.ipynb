{
 "cells": [
  {
   "cell_type": "markdown",
   "metadata": {},
   "source": [
    "# Occupation"
   ]
  },
  {
   "cell_type": "markdown",
   "metadata": {},
   "source": [
    "### Introduction:\n",
    "\n",
    "Special thanks to: https://github.com/justmarkham for sharing the dataset and materials.\n",
    "\n",
    "### Step 1. Import the necessary libraries"
   ]
  },
  {
   "cell_type": "code",
   "execution_count": 1,
   "metadata": {
    "collapsed": false
   },
   "outputs": [],
   "source": [
    "import pandas as pd"
   ]
  },
  {
   "cell_type": "markdown",
   "metadata": {},
   "source": [
    "### Step 2. Import the dataset from this [address](https://raw.githubusercontent.com/justmarkham/DAT8/master/data/u.user). "
   ]
  },
  {
   "cell_type": "markdown",
   "metadata": {},
   "source": [
    "### Step 3. Assign it to a variable called users."
   ]
  },
  {
   "cell_type": "code",
   "execution_count": 3,
   "metadata": {
    "collapsed": false
   },
   "outputs": [
    {
     "data": {
      "application/vnd.microsoft.datawrangler.viewer.v0+json": {
       "columns": [
        {
         "name": "index",
         "rawType": "int64",
         "type": "integer"
        },
        {
         "name": "user_id",
         "rawType": "int64",
         "type": "integer"
        },
        {
         "name": "age",
         "rawType": "int64",
         "type": "integer"
        },
        {
         "name": "gender",
         "rawType": "object",
         "type": "string"
        },
        {
         "name": "occupation",
         "rawType": "object",
         "type": "string"
        },
        {
         "name": "zip_code",
         "rawType": "object",
         "type": "string"
        }
       ],
       "ref": "e393e71f-8355-455c-ada1-478f6535e030",
       "rows": [
        [
         "0",
         "1",
         "24",
         "M",
         "technician",
         "85711"
        ],
        [
         "1",
         "2",
         "53",
         "F",
         "other",
         "94043"
        ],
        [
         "2",
         "3",
         "23",
         "M",
         "writer",
         "32067"
        ],
        [
         "3",
         "4",
         "24",
         "M",
         "technician",
         "43537"
        ],
        [
         "4",
         "5",
         "33",
         "F",
         "other",
         "15213"
        ],
        [
         "5",
         "6",
         "42",
         "M",
         "executive",
         "98101"
        ],
        [
         "6",
         "7",
         "57",
         "M",
         "administrator",
         "91344"
        ],
        [
         "7",
         "8",
         "36",
         "M",
         "administrator",
         "05201"
        ],
        [
         "8",
         "9",
         "29",
         "M",
         "student",
         "01002"
        ],
        [
         "9",
         "10",
         "53",
         "M",
         "lawyer",
         "90703"
        ],
        [
         "10",
         "11",
         "39",
         "F",
         "other",
         "30329"
        ],
        [
         "11",
         "12",
         "28",
         "F",
         "other",
         "06405"
        ],
        [
         "12",
         "13",
         "47",
         "M",
         "educator",
         "29206"
        ],
        [
         "13",
         "14",
         "45",
         "M",
         "scientist",
         "55106"
        ],
        [
         "14",
         "15",
         "49",
         "F",
         "educator",
         "97301"
        ],
        [
         "15",
         "16",
         "21",
         "M",
         "entertainment",
         "10309"
        ],
        [
         "16",
         "17",
         "30",
         "M",
         "programmer",
         "06355"
        ],
        [
         "17",
         "18",
         "35",
         "F",
         "other",
         "37212"
        ],
        [
         "18",
         "19",
         "40",
         "M",
         "librarian",
         "02138"
        ],
        [
         "19",
         "20",
         "42",
         "F",
         "homemaker",
         "95660"
        ],
        [
         "20",
         "21",
         "26",
         "M",
         "writer",
         "30068"
        ],
        [
         "21",
         "22",
         "25",
         "M",
         "writer",
         "40206"
        ],
        [
         "22",
         "23",
         "30",
         "F",
         "artist",
         "48197"
        ],
        [
         "23",
         "24",
         "21",
         "F",
         "artist",
         "94533"
        ],
        [
         "24",
         "25",
         "39",
         "M",
         "engineer",
         "55107"
        ],
        [
         "25",
         "26",
         "49",
         "M",
         "engineer",
         "21044"
        ],
        [
         "26",
         "27",
         "40",
         "F",
         "librarian",
         "30030"
        ],
        [
         "27",
         "28",
         "32",
         "M",
         "writer",
         "55369"
        ],
        [
         "28",
         "29",
         "41",
         "M",
         "programmer",
         "94043"
        ],
        [
         "29",
         "30",
         "7",
         "M",
         "student",
         "55436"
        ],
        [
         "30",
         "31",
         "24",
         "M",
         "artist",
         "10003"
        ],
        [
         "31",
         "32",
         "28",
         "F",
         "student",
         "78741"
        ],
        [
         "32",
         "33",
         "23",
         "M",
         "student",
         "27510"
        ],
        [
         "33",
         "34",
         "38",
         "F",
         "administrator",
         "42141"
        ],
        [
         "34",
         "35",
         "20",
         "F",
         "homemaker",
         "42459"
        ],
        [
         "35",
         "36",
         "19",
         "F",
         "student",
         "93117"
        ],
        [
         "36",
         "37",
         "23",
         "M",
         "student",
         "55105"
        ],
        [
         "37",
         "38",
         "28",
         "F",
         "other",
         "54467"
        ],
        [
         "38",
         "39",
         "41",
         "M",
         "entertainment",
         "01040"
        ],
        [
         "39",
         "40",
         "38",
         "M",
         "scientist",
         "27514"
        ],
        [
         "40",
         "41",
         "33",
         "M",
         "engineer",
         "80525"
        ],
        [
         "41",
         "42",
         "30",
         "M",
         "administrator",
         "17870"
        ],
        [
         "42",
         "43",
         "29",
         "F",
         "librarian",
         "20854"
        ],
        [
         "43",
         "44",
         "26",
         "M",
         "technician",
         "46260"
        ],
        [
         "44",
         "45",
         "29",
         "M",
         "programmer",
         "50233"
        ],
        [
         "45",
         "46",
         "27",
         "F",
         "marketing",
         "46538"
        ],
        [
         "46",
         "47",
         "53",
         "M",
         "marketing",
         "07102"
        ],
        [
         "47",
         "48",
         "45",
         "M",
         "administrator",
         "12550"
        ],
        [
         "48",
         "49",
         "23",
         "F",
         "student",
         "76111"
        ],
        [
         "49",
         "50",
         "21",
         "M",
         "writer",
         "52245"
        ]
       ],
       "shape": {
        "columns": 5,
        "rows": 943
       }
      },
      "text/html": [
       "<div>\n",
       "<style scoped>\n",
       "    .dataframe tbody tr th:only-of-type {\n",
       "        vertical-align: middle;\n",
       "    }\n",
       "\n",
       "    .dataframe tbody tr th {\n",
       "        vertical-align: top;\n",
       "    }\n",
       "\n",
       "    .dataframe thead th {\n",
       "        text-align: right;\n",
       "    }\n",
       "</style>\n",
       "<table border=\"1\" class=\"dataframe\">\n",
       "  <thead>\n",
       "    <tr style=\"text-align: right;\">\n",
       "      <th></th>\n",
       "      <th>user_id</th>\n",
       "      <th>age</th>\n",
       "      <th>gender</th>\n",
       "      <th>occupation</th>\n",
       "      <th>zip_code</th>\n",
       "    </tr>\n",
       "  </thead>\n",
       "  <tbody>\n",
       "    <tr>\n",
       "      <th>0</th>\n",
       "      <td>1</td>\n",
       "      <td>24</td>\n",
       "      <td>M</td>\n",
       "      <td>technician</td>\n",
       "      <td>85711</td>\n",
       "    </tr>\n",
       "    <tr>\n",
       "      <th>1</th>\n",
       "      <td>2</td>\n",
       "      <td>53</td>\n",
       "      <td>F</td>\n",
       "      <td>other</td>\n",
       "      <td>94043</td>\n",
       "    </tr>\n",
       "    <tr>\n",
       "      <th>2</th>\n",
       "      <td>3</td>\n",
       "      <td>23</td>\n",
       "      <td>M</td>\n",
       "      <td>writer</td>\n",
       "      <td>32067</td>\n",
       "    </tr>\n",
       "    <tr>\n",
       "      <th>3</th>\n",
       "      <td>4</td>\n",
       "      <td>24</td>\n",
       "      <td>M</td>\n",
       "      <td>technician</td>\n",
       "      <td>43537</td>\n",
       "    </tr>\n",
       "    <tr>\n",
       "      <th>4</th>\n",
       "      <td>5</td>\n",
       "      <td>33</td>\n",
       "      <td>F</td>\n",
       "      <td>other</td>\n",
       "      <td>15213</td>\n",
       "    </tr>\n",
       "    <tr>\n",
       "      <th>...</th>\n",
       "      <td>...</td>\n",
       "      <td>...</td>\n",
       "      <td>...</td>\n",
       "      <td>...</td>\n",
       "      <td>...</td>\n",
       "    </tr>\n",
       "    <tr>\n",
       "      <th>938</th>\n",
       "      <td>939</td>\n",
       "      <td>26</td>\n",
       "      <td>F</td>\n",
       "      <td>student</td>\n",
       "      <td>33319</td>\n",
       "    </tr>\n",
       "    <tr>\n",
       "      <th>939</th>\n",
       "      <td>940</td>\n",
       "      <td>32</td>\n",
       "      <td>M</td>\n",
       "      <td>administrator</td>\n",
       "      <td>02215</td>\n",
       "    </tr>\n",
       "    <tr>\n",
       "      <th>940</th>\n",
       "      <td>941</td>\n",
       "      <td>20</td>\n",
       "      <td>M</td>\n",
       "      <td>student</td>\n",
       "      <td>97229</td>\n",
       "    </tr>\n",
       "    <tr>\n",
       "      <th>941</th>\n",
       "      <td>942</td>\n",
       "      <td>48</td>\n",
       "      <td>F</td>\n",
       "      <td>librarian</td>\n",
       "      <td>78209</td>\n",
       "    </tr>\n",
       "    <tr>\n",
       "      <th>942</th>\n",
       "      <td>943</td>\n",
       "      <td>22</td>\n",
       "      <td>M</td>\n",
       "      <td>student</td>\n",
       "      <td>77841</td>\n",
       "    </tr>\n",
       "  </tbody>\n",
       "</table>\n",
       "<p>943 rows × 5 columns</p>\n",
       "</div>"
      ],
      "text/plain": [
       "     user_id  age gender     occupation zip_code\n",
       "0          1   24      M     technician    85711\n",
       "1          2   53      F          other    94043\n",
       "2          3   23      M         writer    32067\n",
       "3          4   24      M     technician    43537\n",
       "4          5   33      F          other    15213\n",
       "..       ...  ...    ...            ...      ...\n",
       "938      939   26      F        student    33319\n",
       "939      940   32      M  administrator    02215\n",
       "940      941   20      M        student    97229\n",
       "941      942   48      F      librarian    78209\n",
       "942      943   22      M        student    77841\n",
       "\n",
       "[943 rows x 5 columns]"
      ]
     },
     "execution_count": 3,
     "metadata": {},
     "output_type": "execute_result"
    }
   ],
   "source": [
    "users = pd.read_csv(\"https://raw.githubusercontent.com/justmarkham/DAT8/master/data/u.user\", sep='|')\n",
    "users"
   ]
  },
  {
   "cell_type": "markdown",
   "metadata": {},
   "source": [
    "### Step 4. Discover what is the mean age per occupation"
   ]
  },
  {
   "cell_type": "code",
   "execution_count": 10,
   "metadata": {
    "collapsed": false
   },
   "outputs": [
    {
     "data": {
      "application/vnd.microsoft.datawrangler.viewer.v0+json": {
       "columns": [
        {
         "name": "occupation",
         "rawType": "object",
         "type": "string"
        },
        {
         "name": "age",
         "rawType": "float64",
         "type": "float"
        }
       ],
       "ref": "8cf9af81-afe9-448d-9c5e-d6e84d3a04c6",
       "rows": [
        [
         "administrator",
         "38.74683544303797"
        ],
        [
         "artist",
         "31.392857142857142"
        ],
        [
         "doctor",
         "43.57142857142857"
        ],
        [
         "educator",
         "42.01052631578948"
        ],
        [
         "engineer",
         "36.38805970149254"
        ],
        [
         "entertainment",
         "29.22222222222222"
        ],
        [
         "executive",
         "38.71875"
        ],
        [
         "healthcare",
         "41.5625"
        ],
        [
         "homemaker",
         "32.57142857142857"
        ],
        [
         "lawyer",
         "36.75"
        ],
        [
         "librarian",
         "40.0"
        ],
        [
         "marketing",
         "37.61538461538461"
        ],
        [
         "none",
         "26.555555555555557"
        ],
        [
         "other",
         "34.523809523809526"
        ],
        [
         "programmer",
         "33.121212121212125"
        ],
        [
         "retired",
         "63.07142857142857"
        ],
        [
         "salesman",
         "35.666666666666664"
        ],
        [
         "scientist",
         "35.54838709677419"
        ],
        [
         "student",
         "22.081632653061224"
        ],
        [
         "technician",
         "33.148148148148145"
        ],
        [
         "writer",
         "36.31111111111111"
        ]
       ],
       "shape": {
        "columns": 1,
        "rows": 21
       }
      },
      "text/plain": [
       "occupation\n",
       "administrator    38.746835\n",
       "artist           31.392857\n",
       "doctor           43.571429\n",
       "educator         42.010526\n",
       "engineer         36.388060\n",
       "entertainment    29.222222\n",
       "executive        38.718750\n",
       "healthcare       41.562500\n",
       "homemaker        32.571429\n",
       "lawyer           36.750000\n",
       "librarian        40.000000\n",
       "marketing        37.615385\n",
       "none             26.555556\n",
       "other            34.523810\n",
       "programmer       33.121212\n",
       "retired          63.071429\n",
       "salesman         35.666667\n",
       "scientist        35.548387\n",
       "student          22.081633\n",
       "technician       33.148148\n",
       "writer           36.311111\n",
       "Name: age, dtype: float64"
      ]
     },
     "execution_count": 10,
     "metadata": {},
     "output_type": "execute_result"
    }
   ],
   "source": [
    "users.groupby('occupation').age.mean()"
   ]
  },
  {
   "cell_type": "markdown",
   "metadata": {},
   "source": [
    "### Step 5. Discover the Male ratio per occupation and sort it from the most to the least"
   ]
  },
  {
   "cell_type": "code",
   "execution_count": 22,
   "metadata": {
    "collapsed": false
   },
   "outputs": [
    {
     "data": {
      "application/vnd.microsoft.datawrangler.viewer.v0+json": {
       "columns": [
        {
         "name": "occupation",
         "rawType": "object",
         "type": "string"
        },
        {
         "name": "0",
         "rawType": "float64",
         "type": "float"
        }
       ],
       "ref": "50e0250d-68b1-4dac-9381-25ab44661909",
       "rows": [
        [
         "doctor",
         "100.0"
        ],
        [
         "engineer",
         "97.01492537313433"
        ],
        [
         "technician",
         "96.29629629629629"
        ],
        [
         "retired",
         "92.85714285714286"
        ],
        [
         "programmer",
         "90.9090909090909"
        ],
        [
         "executive",
         "90.625"
        ],
        [
         "scientist",
         "90.32258064516128"
        ],
        [
         "entertainment",
         "88.88888888888889"
        ],
        [
         "lawyer",
         "83.33333333333334"
        ],
        [
         "salesman",
         "75.0"
        ],
        [
         "educator",
         "72.63157894736842"
        ],
        [
         "student",
         "69.38775510204081"
        ],
        [
         "other",
         "65.71428571428571"
        ],
        [
         "marketing",
         "61.53846153846154"
        ],
        [
         "writer",
         "57.77777777777777"
        ],
        [
         "none",
         "55.55555555555556"
        ],
        [
         "administrator",
         "54.43037974683544"
        ],
        [
         "artist",
         "53.57142857142857"
        ],
        [
         "librarian",
         "43.13725490196079"
        ],
        [
         "healthcare",
         "31.25"
        ],
        [
         "homemaker",
         "14.285714285714285"
        ]
       ],
       "shape": {
        "columns": 1,
        "rows": 21
       }
      },
      "text/plain": [
       "occupation\n",
       "doctor           100.000000\n",
       "engineer          97.014925\n",
       "technician        96.296296\n",
       "retired           92.857143\n",
       "programmer        90.909091\n",
       "executive         90.625000\n",
       "scientist         90.322581\n",
       "entertainment     88.888889\n",
       "lawyer            83.333333\n",
       "salesman          75.000000\n",
       "educator          72.631579\n",
       "student           69.387755\n",
       "other             65.714286\n",
       "marketing         61.538462\n",
       "writer            57.777778\n",
       "none              55.555556\n",
       "administrator     54.430380\n",
       "artist            53.571429\n",
       "librarian         43.137255\n",
       "healthcare        31.250000\n",
       "homemaker         14.285714\n",
       "dtype: float64"
      ]
     },
     "execution_count": 22,
     "metadata": {},
     "output_type": "execute_result"
    }
   ],
   "source": [
    "def gnderToNum(x):\n",
    "    if x == 'M':\n",
    "        return 1\n",
    "    elif x == 'F':\n",
    "        return 0\n",
    "\n",
    "users['maleBinary'] = users.gender.apply(gnderToNum)\n",
    "\n",
    "a = users.groupby('occupation').maleBinary.sum() / users.occupation.value_counts() * 100\n",
    "\n",
    "a.sort_values(ascending=False)"
   ]
  },
  {
   "cell_type": "markdown",
   "metadata": {},
   "source": [
    "### Step 6. For each occupation, calculate the minimum and maximum ages"
   ]
  },
  {
   "cell_type": "code",
   "execution_count": 26,
   "metadata": {
    "collapsed": false
   },
   "outputs": [
    {
     "data": {
      "application/vnd.microsoft.datawrangler.viewer.v0+json": {
       "columns": [
        {
         "name": "occupation",
         "rawType": "object",
         "type": "string"
        },
        {
         "name": "age",
         "rawType": "int64",
         "type": "integer"
        }
       ],
       "ref": "a3db4ffa-341a-49b4-9196-82711cd1cb14",
       "rows": [
        [
         "administrator",
         "21"
        ],
        [
         "artist",
         "19"
        ],
        [
         "doctor",
         "28"
        ],
        [
         "educator",
         "23"
        ],
        [
         "engineer",
         "22"
        ],
        [
         "entertainment",
         "15"
        ],
        [
         "executive",
         "22"
        ],
        [
         "healthcare",
         "22"
        ],
        [
         "homemaker",
         "20"
        ],
        [
         "lawyer",
         "21"
        ],
        [
         "librarian",
         "23"
        ],
        [
         "marketing",
         "24"
        ],
        [
         "none",
         "11"
        ],
        [
         "other",
         "13"
        ],
        [
         "programmer",
         "20"
        ],
        [
         "retired",
         "51"
        ],
        [
         "salesman",
         "18"
        ],
        [
         "scientist",
         "23"
        ],
        [
         "student",
         "7"
        ],
        [
         "technician",
         "21"
        ],
        [
         "writer",
         "18"
        ]
       ],
       "shape": {
        "columns": 1,
        "rows": 21
       }
      },
      "text/plain": [
       "occupation\n",
       "administrator    21\n",
       "artist           19\n",
       "doctor           28\n",
       "educator         23\n",
       "engineer         22\n",
       "entertainment    15\n",
       "executive        22\n",
       "healthcare       22\n",
       "homemaker        20\n",
       "lawyer           21\n",
       "librarian        23\n",
       "marketing        24\n",
       "none             11\n",
       "other            13\n",
       "programmer       20\n",
       "retired          51\n",
       "salesman         18\n",
       "scientist        23\n",
       "student           7\n",
       "technician       21\n",
       "writer           18\n",
       "Name: age, dtype: int64"
      ]
     },
     "execution_count": 26,
     "metadata": {},
     "output_type": "execute_result"
    }
   ],
   "source": [
    "users.groupby('occupation').age.min()"
   ]
  },
  {
   "cell_type": "code",
   "execution_count": 27,
   "metadata": {},
   "outputs": [
    {
     "data": {
      "application/vnd.microsoft.datawrangler.viewer.v0+json": {
       "columns": [
        {
         "name": "occupation",
         "rawType": "object",
         "type": "string"
        },
        {
         "name": "age",
         "rawType": "int64",
         "type": "integer"
        }
       ],
       "ref": "deac66cd-33d4-4668-8143-22aaf34c98f3",
       "rows": [
        [
         "administrator",
         "70"
        ],
        [
         "artist",
         "48"
        ],
        [
         "doctor",
         "64"
        ],
        [
         "educator",
         "63"
        ],
        [
         "engineer",
         "70"
        ],
        [
         "entertainment",
         "50"
        ],
        [
         "executive",
         "69"
        ],
        [
         "healthcare",
         "62"
        ],
        [
         "homemaker",
         "50"
        ],
        [
         "lawyer",
         "53"
        ],
        [
         "librarian",
         "69"
        ],
        [
         "marketing",
         "55"
        ],
        [
         "none",
         "55"
        ],
        [
         "other",
         "64"
        ],
        [
         "programmer",
         "63"
        ],
        [
         "retired",
         "73"
        ],
        [
         "salesman",
         "66"
        ],
        [
         "scientist",
         "55"
        ],
        [
         "student",
         "42"
        ],
        [
         "technician",
         "55"
        ],
        [
         "writer",
         "60"
        ]
       ],
       "shape": {
        "columns": 1,
        "rows": 21
       }
      },
      "text/plain": [
       "occupation\n",
       "administrator    70\n",
       "artist           48\n",
       "doctor           64\n",
       "educator         63\n",
       "engineer         70\n",
       "entertainment    50\n",
       "executive        69\n",
       "healthcare       62\n",
       "homemaker        50\n",
       "lawyer           53\n",
       "librarian        69\n",
       "marketing        55\n",
       "none             55\n",
       "other            64\n",
       "programmer       63\n",
       "retired          73\n",
       "salesman         66\n",
       "scientist        55\n",
       "student          42\n",
       "technician       55\n",
       "writer           60\n",
       "Name: age, dtype: int64"
      ]
     },
     "execution_count": 27,
     "metadata": {},
     "output_type": "execute_result"
    }
   ],
   "source": [
    "users.groupby('occupation').age.max()"
   ]
  },
  {
   "cell_type": "markdown",
   "metadata": {},
   "source": [
    "### Step 7. For each combination of occupation and gender, calculate the mean age"
   ]
  },
  {
   "cell_type": "code",
   "execution_count": 46,
   "metadata": {
    "collapsed": false
   },
   "outputs": [
    {
     "data": {
      "application/vnd.microsoft.datawrangler.viewer.v0+json": {
       "columns": [
        {
         "name": "occupation",
         "rawType": "object",
         "type": "string"
        },
        {
         "name": "min",
         "rawType": "int64",
         "type": "integer"
        },
        {
         "name": "max",
         "rawType": "int64",
         "type": "integer"
        }
       ],
       "ref": "6f0731f8-9cf4-4547-8028-c569f2979f98",
       "rows": [
        [
         "administrator",
         "21",
         "70"
        ],
        [
         "artist",
         "19",
         "48"
        ],
        [
         "doctor",
         "28",
         "64"
        ],
        [
         "educator",
         "23",
         "63"
        ],
        [
         "engineer",
         "22",
         "70"
        ],
        [
         "entertainment",
         "15",
         "50"
        ],
        [
         "executive",
         "22",
         "69"
        ],
        [
         "healthcare",
         "22",
         "62"
        ],
        [
         "homemaker",
         "20",
         "50"
        ],
        [
         "lawyer",
         "21",
         "53"
        ],
        [
         "librarian",
         "23",
         "69"
        ],
        [
         "marketing",
         "24",
         "55"
        ],
        [
         "none",
         "11",
         "55"
        ],
        [
         "other",
         "13",
         "64"
        ],
        [
         "programmer",
         "20",
         "63"
        ],
        [
         "retired",
         "51",
         "73"
        ],
        [
         "salesman",
         "18",
         "66"
        ],
        [
         "scientist",
         "23",
         "55"
        ],
        [
         "student",
         "7",
         "42"
        ],
        [
         "technician",
         "21",
         "55"
        ],
        [
         "writer",
         "18",
         "60"
        ]
       ],
       "shape": {
        "columns": 2,
        "rows": 21
       }
      },
      "text/html": [
       "<div>\n",
       "<style scoped>\n",
       "    .dataframe tbody tr th:only-of-type {\n",
       "        vertical-align: middle;\n",
       "    }\n",
       "\n",
       "    .dataframe tbody tr th {\n",
       "        vertical-align: top;\n",
       "    }\n",
       "\n",
       "    .dataframe thead th {\n",
       "        text-align: right;\n",
       "    }\n",
       "</style>\n",
       "<table border=\"1\" class=\"dataframe\">\n",
       "  <thead>\n",
       "    <tr style=\"text-align: right;\">\n",
       "      <th></th>\n",
       "      <th>min</th>\n",
       "      <th>max</th>\n",
       "    </tr>\n",
       "    <tr>\n",
       "      <th>occupation</th>\n",
       "      <th></th>\n",
       "      <th></th>\n",
       "    </tr>\n",
       "  </thead>\n",
       "  <tbody>\n",
       "    <tr>\n",
       "      <th>administrator</th>\n",
       "      <td>21</td>\n",
       "      <td>70</td>\n",
       "    </tr>\n",
       "    <tr>\n",
       "      <th>artist</th>\n",
       "      <td>19</td>\n",
       "      <td>48</td>\n",
       "    </tr>\n",
       "    <tr>\n",
       "      <th>doctor</th>\n",
       "      <td>28</td>\n",
       "      <td>64</td>\n",
       "    </tr>\n",
       "    <tr>\n",
       "      <th>educator</th>\n",
       "      <td>23</td>\n",
       "      <td>63</td>\n",
       "    </tr>\n",
       "    <tr>\n",
       "      <th>engineer</th>\n",
       "      <td>22</td>\n",
       "      <td>70</td>\n",
       "    </tr>\n",
       "    <tr>\n",
       "      <th>entertainment</th>\n",
       "      <td>15</td>\n",
       "      <td>50</td>\n",
       "    </tr>\n",
       "    <tr>\n",
       "      <th>executive</th>\n",
       "      <td>22</td>\n",
       "      <td>69</td>\n",
       "    </tr>\n",
       "    <tr>\n",
       "      <th>healthcare</th>\n",
       "      <td>22</td>\n",
       "      <td>62</td>\n",
       "    </tr>\n",
       "    <tr>\n",
       "      <th>homemaker</th>\n",
       "      <td>20</td>\n",
       "      <td>50</td>\n",
       "    </tr>\n",
       "    <tr>\n",
       "      <th>lawyer</th>\n",
       "      <td>21</td>\n",
       "      <td>53</td>\n",
       "    </tr>\n",
       "    <tr>\n",
       "      <th>librarian</th>\n",
       "      <td>23</td>\n",
       "      <td>69</td>\n",
       "    </tr>\n",
       "    <tr>\n",
       "      <th>marketing</th>\n",
       "      <td>24</td>\n",
       "      <td>55</td>\n",
       "    </tr>\n",
       "    <tr>\n",
       "      <th>none</th>\n",
       "      <td>11</td>\n",
       "      <td>55</td>\n",
       "    </tr>\n",
       "    <tr>\n",
       "      <th>other</th>\n",
       "      <td>13</td>\n",
       "      <td>64</td>\n",
       "    </tr>\n",
       "    <tr>\n",
       "      <th>programmer</th>\n",
       "      <td>20</td>\n",
       "      <td>63</td>\n",
       "    </tr>\n",
       "    <tr>\n",
       "      <th>retired</th>\n",
       "      <td>51</td>\n",
       "      <td>73</td>\n",
       "    </tr>\n",
       "    <tr>\n",
       "      <th>salesman</th>\n",
       "      <td>18</td>\n",
       "      <td>66</td>\n",
       "    </tr>\n",
       "    <tr>\n",
       "      <th>scientist</th>\n",
       "      <td>23</td>\n",
       "      <td>55</td>\n",
       "    </tr>\n",
       "    <tr>\n",
       "      <th>student</th>\n",
       "      <td>7</td>\n",
       "      <td>42</td>\n",
       "    </tr>\n",
       "    <tr>\n",
       "      <th>technician</th>\n",
       "      <td>21</td>\n",
       "      <td>55</td>\n",
       "    </tr>\n",
       "    <tr>\n",
       "      <th>writer</th>\n",
       "      <td>18</td>\n",
       "      <td>60</td>\n",
       "    </tr>\n",
       "  </tbody>\n",
       "</table>\n",
       "</div>"
      ],
      "text/plain": [
       "               min  max\n",
       "occupation             \n",
       "administrator   21   70\n",
       "artist          19   48\n",
       "doctor          28   64\n",
       "educator        23   63\n",
       "engineer        22   70\n",
       "entertainment   15   50\n",
       "executive       22   69\n",
       "healthcare      22   62\n",
       "homemaker       20   50\n",
       "lawyer          21   53\n",
       "librarian       23   69\n",
       "marketing       24   55\n",
       "none            11   55\n",
       "other           13   64\n",
       "programmer      20   63\n",
       "retired         51   73\n",
       "salesman        18   66\n",
       "scientist       23   55\n",
       "student          7   42\n",
       "technician      21   55\n",
       "writer          18   60"
      ]
     },
     "execution_count": 46,
     "metadata": {},
     "output_type": "execute_result"
    }
   ],
   "source": [
    "users.groupby('occupation').age.agg(['min','max'])"
   ]
  },
  {
   "cell_type": "markdown",
   "metadata": {},
   "source": [
    "### Step 8.  For each occupation present the percentage of women and men"
   ]
  },
  {
   "cell_type": "code",
   "execution_count": 47,
   "metadata": {
    "collapsed": false
   },
   "outputs": [
    {
     "data": {
      "application/vnd.microsoft.datawrangler.viewer.v0+json": {
       "columns": [
        {
         "name": "('occupation', 'gender')",
         "rawType": "object",
         "type": "unknown"
        },
        {
         "name": "age",
         "rawType": "float64",
         "type": "float"
        }
       ],
       "ref": "f7956e00-dfdd-4c32-8a95-d6b44a84b366",
       "rows": [
        [
         "('administrator', 'F')",
         "40.638888888888886"
        ],
        [
         "('administrator', 'M')",
         "37.16279069767442"
        ],
        [
         "('artist', 'F')",
         "30.307692307692307"
        ],
        [
         "('artist', 'M')",
         "32.333333333333336"
        ],
        [
         "('doctor', 'M')",
         "43.57142857142857"
        ],
        [
         "('educator', 'F')",
         "39.11538461538461"
        ],
        [
         "('educator', 'M')",
         "43.10144927536232"
        ],
        [
         "('engineer', 'F')",
         "29.5"
        ],
        [
         "('engineer', 'M')",
         "36.6"
        ],
        [
         "('entertainment', 'F')",
         "31.0"
        ],
        [
         "('entertainment', 'M')",
         "29.0"
        ],
        [
         "('executive', 'F')",
         "44.0"
        ],
        [
         "('executive', 'M')",
         "38.172413793103445"
        ],
        [
         "('healthcare', 'F')",
         "39.81818181818182"
        ],
        [
         "('healthcare', 'M')",
         "45.4"
        ],
        [
         "('homemaker', 'F')",
         "34.166666666666664"
        ],
        [
         "('homemaker', 'M')",
         "23.0"
        ],
        [
         "('lawyer', 'F')",
         "39.5"
        ],
        [
         "('lawyer', 'M')",
         "36.2"
        ],
        [
         "('librarian', 'F')",
         "40.0"
        ],
        [
         "('librarian', 'M')",
         "40.0"
        ],
        [
         "('marketing', 'F')",
         "37.2"
        ],
        [
         "('marketing', 'M')",
         "37.875"
        ],
        [
         "('none', 'F')",
         "36.5"
        ],
        [
         "('none', 'M')",
         "18.6"
        ],
        [
         "('other', 'F')",
         "35.47222222222222"
        ],
        [
         "('other', 'M')",
         "34.028985507246375"
        ],
        [
         "('programmer', 'F')",
         "32.166666666666664"
        ],
        [
         "('programmer', 'M')",
         "33.21666666666667"
        ],
        [
         "('retired', 'F')",
         "70.0"
        ],
        [
         "('retired', 'M')",
         "62.53846153846154"
        ],
        [
         "('salesman', 'F')",
         "27.0"
        ],
        [
         "('salesman', 'M')",
         "38.55555555555556"
        ],
        [
         "('scientist', 'F')",
         "28.333333333333332"
        ],
        [
         "('scientist', 'M')",
         "36.32142857142857"
        ],
        [
         "('student', 'F')",
         "20.75"
        ],
        [
         "('student', 'M')",
         "22.669117647058822"
        ],
        [
         "('technician', 'F')",
         "38.0"
        ],
        [
         "('technician', 'M')",
         "32.96153846153846"
        ],
        [
         "('writer', 'F')",
         "37.63157894736842"
        ],
        [
         "('writer', 'M')",
         "35.34615384615385"
        ]
       ],
       "shape": {
        "columns": 1,
        "rows": 41
       }
      },
      "text/plain": [
       "occupation     gender\n",
       "administrator  F         40.638889\n",
       "               M         37.162791\n",
       "artist         F         30.307692\n",
       "               M         32.333333\n",
       "doctor         M         43.571429\n",
       "educator       F         39.115385\n",
       "               M         43.101449\n",
       "engineer       F         29.500000\n",
       "               M         36.600000\n",
       "entertainment  F         31.000000\n",
       "               M         29.000000\n",
       "executive      F         44.000000\n",
       "               M         38.172414\n",
       "healthcare     F         39.818182\n",
       "               M         45.400000\n",
       "homemaker      F         34.166667\n",
       "               M         23.000000\n",
       "lawyer         F         39.500000\n",
       "               M         36.200000\n",
       "librarian      F         40.000000\n",
       "               M         40.000000\n",
       "marketing      F         37.200000\n",
       "               M         37.875000\n",
       "none           F         36.500000\n",
       "               M         18.600000\n",
       "other          F         35.472222\n",
       "               M         34.028986\n",
       "programmer     F         32.166667\n",
       "               M         33.216667\n",
       "retired        F         70.000000\n",
       "               M         62.538462\n",
       "salesman       F         27.000000\n",
       "               M         38.555556\n",
       "scientist      F         28.333333\n",
       "               M         36.321429\n",
       "student        F         20.750000\n",
       "               M         22.669118\n",
       "technician     F         38.000000\n",
       "               M         32.961538\n",
       "writer         F         37.631579\n",
       "               M         35.346154\n",
       "Name: age, dtype: float64"
      ]
     },
     "execution_count": 47,
     "metadata": {},
     "output_type": "execute_result"
    }
   ],
   "source": [
    "users.groupby(['occupation','gender']).age.mean()"
   ]
  }
 ],
 "metadata": {
  "kernelspec": {
   "display_name": ".venv",
   "language": "python",
   "name": "python3"
  },
  "language_info": {
   "codemirror_mode": {
    "name": "ipython",
    "version": 3
   },
   "file_extension": ".py",
   "mimetype": "text/x-python",
   "name": "python",
   "nbconvert_exporter": "python",
   "pygments_lexer": "ipython3",
   "version": "3.12.3"
  }
 },
 "nbformat": 4,
 "nbformat_minor": 0
}
