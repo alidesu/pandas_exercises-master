{
 "cells": [
  {
   "cell_type": "markdown",
   "metadata": {},
   "source": [
    "# Ex1 - Filtering and Sorting Data"
   ]
  },
  {
   "cell_type": "markdown",
   "metadata": {},
   "source": [
    "This time we are going to pull data directly from the internet.\n",
    "Special thanks to: https://github.com/justmarkham for sharing the dataset and materials.\n",
    "\n",
    "### Step 1. Import the necessary libraries"
   ]
  },
  {
   "cell_type": "code",
   "execution_count": 19,
   "metadata": {
    "collapsed": false
   },
   "outputs": [],
   "source": [
    "import pandas as pd"
   ]
  },
  {
   "cell_type": "markdown",
   "metadata": {},
   "source": [
    "### Step 2. Import the dataset from this [address](https://raw.githubusercontent.com/justmarkham/DAT8/master/data/chipotle.tsv). "
   ]
  },
  {
   "cell_type": "markdown",
   "metadata": {},
   "source": [
    "### Step 3. Assign it to a variable called chipo."
   ]
  },
  {
   "cell_type": "code",
   "execution_count": 45,
   "metadata": {
    "collapsed": false
   },
   "outputs": [],
   "source": [
    "chipo = pd.read_csv(\"https://raw.githubusercontent.com/justmarkham/DAT8/master/data/chipotle.tsv\", sep='\\t')"
   ]
  },
  {
   "cell_type": "markdown",
   "metadata": {},
   "source": [
    "### Step 4. How many products cost more than $10.00?"
   ]
  },
  {
   "cell_type": "code",
   "execution_count": 46,
   "metadata": {
    "collapsed": false
   },
   "outputs": [
    {
     "name": "stdout",
     "output_type": "stream",
     "text": [
      "Original item_price column:\n",
      "0     $2.39 \n",
      "1     $3.39 \n",
      "2     $3.39 \n",
      "3     $2.39 \n",
      "4    $16.98 \n",
      "Name: item_price, dtype: object\n",
      "Data type: object\n",
      "\n",
      "After creating new column:\n",
      "Original item_price (unchanged): ['$2.39 ', '$3.39 ', '$3.39 ', '$2.39 ', '$16.98 ']\n",
      "New numeric column: [2.39, 3.39, 3.39, 2.39, 16.98]\n",
      "Number of products over $10: 1130\n",
      "\n",
      "Comparison of original vs numeric prices:\n",
      "                               item_name item_price  item_price_numeric\n",
      "0           Chips and Fresh Tomato Salsa     $2.39                 2.39\n",
      "1                                   Izze     $3.39                 3.39\n",
      "2                       Nantucket Nectar     $3.39                 3.39\n",
      "3  Chips and Tomatillo-Green Chili Salsa     $2.39                 2.39\n",
      "4                           Chicken Bowl    $16.98                16.98\n"
     ]
    }
   ],
   "source": [
    "chipo['item_price_numeric'] = chipo['item_price'].str.replace('$','').astype(float)\n",
    "print(chipo[chipo['item_price_numeric'] >= 10])"
   ]
  },
  {
   "cell_type": "markdown",
   "metadata": {},
   "source": [
    "### Step 5. What is the price of each item? \n",
    "###### print a data frame with only two columns item_name and item_price"
   ]
  },
  {
   "cell_type": "code",
   "execution_count": 56,
   "metadata": {
    "collapsed": false
   },
   "outputs": [
    {
     "data": {
      "application/vnd.microsoft.datawrangler.viewer.v0+json": {
       "columns": [
        {
         "name": "index",
         "rawType": "int64",
         "type": "integer"
        },
        {
         "name": "item_name",
         "rawType": "object",
         "type": "string"
        },
        {
         "name": "item_price",
         "rawType": "object",
         "type": "string"
        }
       ],
       "ref": "c0fbf30d-2653-4246-b39c-99d079e8bc01",
       "rows": [
        [
         "0",
         "Chips and Fresh Tomato Salsa",
         "$2.39 "
        ],
        [
         "1",
         "Izze",
         "$3.39 "
        ],
        [
         "2",
         "Nantucket Nectar",
         "$3.39 "
        ],
        [
         "3",
         "Chips and Tomatillo-Green Chili Salsa",
         "$2.39 "
        ],
        [
         "4",
         "Chicken Bowl",
         "$16.98 "
        ],
        [
         "5",
         "Chicken Bowl",
         "$10.98 "
        ],
        [
         "6",
         "Side of Chips",
         "$1.69 "
        ],
        [
         "7",
         "Steak Burrito",
         "$11.75 "
        ],
        [
         "8",
         "Steak Soft Tacos",
         "$9.25 "
        ],
        [
         "9",
         "Steak Burrito",
         "$9.25 "
        ],
        [
         "10",
         "Chips and Guacamole",
         "$4.45 "
        ],
        [
         "11",
         "Chicken Crispy Tacos",
         "$8.75 "
        ],
        [
         "12",
         "Chicken Soft Tacos",
         "$8.75 "
        ],
        [
         "13",
         "Chicken Bowl",
         "$11.25 "
        ],
        [
         "14",
         "Chips and Guacamole",
         "$4.45 "
        ],
        [
         "15",
         "Chips and Tomatillo-Green Chili Salsa",
         "$2.39 "
        ],
        [
         "16",
         "Chicken Burrito",
         "$8.49 "
        ],
        [
         "17",
         "Chicken Burrito",
         "$8.49 "
        ],
        [
         "18",
         "Canned Soda",
         "$2.18 "
        ],
        [
         "19",
         "Chicken Bowl",
         "$8.75 "
        ],
        [
         "20",
         "Chips and Guacamole",
         "$4.45 "
        ],
        [
         "21",
         "Barbacoa Burrito",
         "$8.99 "
        ],
        [
         "22",
         "Nantucket Nectar",
         "$3.39 "
        ],
        [
         "23",
         "Chicken Burrito",
         "$10.98 "
        ],
        [
         "24",
         "Izze",
         "$3.39 "
        ],
        [
         "25",
         "Chips and Fresh Tomato Salsa",
         "$2.39 "
        ],
        [
         "26",
         "Chicken Bowl",
         "$8.49 "
        ],
        [
         "27",
         "Carnitas Burrito",
         "$8.99 "
        ],
        [
         "28",
         "Canned Soda",
         "$1.09 "
        ],
        [
         "29",
         "Chicken Burrito",
         "$8.49 "
        ],
        [
         "30",
         "Chips and Tomatillo-Green Chili Salsa",
         "$2.39 "
        ],
        [
         "31",
         "Steak Burrito",
         "$8.99 "
        ],
        [
         "32",
         "Side of Chips",
         "$1.69 "
        ],
        [
         "33",
         "Carnitas Bowl",
         "$8.99 "
        ],
        [
         "34",
         "Bottled Water",
         "$1.09 "
        ],
        [
         "35",
         "Chicken Soft Tacos",
         "$8.75 "
        ],
        [
         "36",
         "Chicken Soft Tacos",
         "$8.75 "
        ],
        [
         "37",
         "Chips and Guacamole",
         "$4.45 "
        ],
        [
         "38",
         "Chips and Tomatillo Green Chili Salsa",
         "$2.95 "
        ],
        [
         "39",
         "Barbacoa Bowl",
         "$11.75 "
        ],
        [
         "40",
         "Chips",
         "$2.15 "
        ],
        [
         "41",
         "Chips and Guacamole",
         "$4.45 "
        ],
        [
         "42",
         "Chicken Bowl",
         "$11.25 "
        ],
        [
         "43",
         "Steak Burrito",
         "$11.75 "
        ],
        [
         "44",
         "Chicken Salad Bowl",
         "$8.75 "
        ],
        [
         "45",
         "Chicken Burrito",
         "$10.98 "
        ],
        [
         "46",
         "Steak Burrito",
         "$8.99 "
        ],
        [
         "47",
         "Izze",
         "$3.39 "
        ],
        [
         "48",
         "Steak Burrito",
         "$8.99 "
        ],
        [
         "49",
         "Chips and Guacamole",
         "$3.99 "
        ]
       ],
       "shape": {
        "columns": 2,
        "rows": 4622
       }
      },
      "text/html": [
       "<div>\n",
       "<style scoped>\n",
       "    .dataframe tbody tr th:only-of-type {\n",
       "        vertical-align: middle;\n",
       "    }\n",
       "\n",
       "    .dataframe tbody tr th {\n",
       "        vertical-align: top;\n",
       "    }\n",
       "\n",
       "    .dataframe thead th {\n",
       "        text-align: right;\n",
       "    }\n",
       "</style>\n",
       "<table border=\"1\" class=\"dataframe\">\n",
       "  <thead>\n",
       "    <tr style=\"text-align: right;\">\n",
       "      <th></th>\n",
       "      <th>item_name</th>\n",
       "      <th>item_price</th>\n",
       "    </tr>\n",
       "  </thead>\n",
       "  <tbody>\n",
       "    <tr>\n",
       "      <th>0</th>\n",
       "      <td>Chips and Fresh Tomato Salsa</td>\n",
       "      <td>$2.39</td>\n",
       "    </tr>\n",
       "    <tr>\n",
       "      <th>1</th>\n",
       "      <td>Izze</td>\n",
       "      <td>$3.39</td>\n",
       "    </tr>\n",
       "    <tr>\n",
       "      <th>2</th>\n",
       "      <td>Nantucket Nectar</td>\n",
       "      <td>$3.39</td>\n",
       "    </tr>\n",
       "    <tr>\n",
       "      <th>3</th>\n",
       "      <td>Chips and Tomatillo-Green Chili Salsa</td>\n",
       "      <td>$2.39</td>\n",
       "    </tr>\n",
       "    <tr>\n",
       "      <th>4</th>\n",
       "      <td>Chicken Bowl</td>\n",
       "      <td>$16.98</td>\n",
       "    </tr>\n",
       "    <tr>\n",
       "      <th>...</th>\n",
       "      <td>...</td>\n",
       "      <td>...</td>\n",
       "    </tr>\n",
       "    <tr>\n",
       "      <th>4617</th>\n",
       "      <td>Steak Burrito</td>\n",
       "      <td>$11.75</td>\n",
       "    </tr>\n",
       "    <tr>\n",
       "      <th>4618</th>\n",
       "      <td>Steak Burrito</td>\n",
       "      <td>$11.75</td>\n",
       "    </tr>\n",
       "    <tr>\n",
       "      <th>4619</th>\n",
       "      <td>Chicken Salad Bowl</td>\n",
       "      <td>$11.25</td>\n",
       "    </tr>\n",
       "    <tr>\n",
       "      <th>4620</th>\n",
       "      <td>Chicken Salad Bowl</td>\n",
       "      <td>$8.75</td>\n",
       "    </tr>\n",
       "    <tr>\n",
       "      <th>4621</th>\n",
       "      <td>Chicken Salad Bowl</td>\n",
       "      <td>$8.75</td>\n",
       "    </tr>\n",
       "  </tbody>\n",
       "</table>\n",
       "<p>4622 rows × 2 columns</p>\n",
       "</div>"
      ],
      "text/plain": [
       "                                  item_name item_price\n",
       "0              Chips and Fresh Tomato Salsa     $2.39 \n",
       "1                                      Izze     $3.39 \n",
       "2                          Nantucket Nectar     $3.39 \n",
       "3     Chips and Tomatillo-Green Chili Salsa     $2.39 \n",
       "4                              Chicken Bowl    $16.98 \n",
       "...                                     ...        ...\n",
       "4617                          Steak Burrito    $11.75 \n",
       "4618                          Steak Burrito    $11.75 \n",
       "4619                     Chicken Salad Bowl    $11.25 \n",
       "4620                     Chicken Salad Bowl     $8.75 \n",
       "4621                     Chicken Salad Bowl     $8.75 \n",
       "\n",
       "[4622 rows x 2 columns]"
      ]
     },
     "execution_count": 56,
     "metadata": {},
     "output_type": "execute_result"
    }
   ],
   "source": [
    "chipo[['item_name','item_price']]"
   ]
  },
  {
   "cell_type": "markdown",
   "metadata": {},
   "source": [
    "### Step 6. Sort by the name of the item"
   ]
  },
  {
   "cell_type": "code",
   "execution_count": 61,
   "metadata": {
    "collapsed": false
   },
   "outputs": [
    {
     "data": {
      "application/vnd.microsoft.datawrangler.viewer.v0+json": {
       "columns": [
        {
         "name": "index",
         "rawType": "int64",
         "type": "integer"
        },
        {
         "name": "item_name",
         "rawType": "object",
         "type": "string"
        }
       ],
       "ref": "2a6cea67-2beb-41ab-8444-1860df19716a",
       "rows": [
        [
         "3389",
         "6 Pack Soft Drink"
        ],
        [
         "341",
         "6 Pack Soft Drink"
        ],
        [
         "1849",
         "6 Pack Soft Drink"
        ],
        [
         "1860",
         "6 Pack Soft Drink"
        ],
        [
         "2713",
         "6 Pack Soft Drink"
        ],
        [
         "3422",
         "6 Pack Soft Drink"
        ],
        [
         "553",
         "6 Pack Soft Drink"
        ],
        [
         "1916",
         "6 Pack Soft Drink"
        ],
        [
         "1922",
         "6 Pack Soft Drink"
        ],
        [
         "1937",
         "6 Pack Soft Drink"
        ],
        [
         "3836",
         "6 Pack Soft Drink"
        ],
        [
         "298",
         "6 Pack Soft Drink"
        ],
        [
         "1976",
         "6 Pack Soft Drink"
        ],
        [
         "1167",
         "6 Pack Soft Drink"
        ],
        [
         "3875",
         "6 Pack Soft Drink"
        ],
        [
         "1124",
         "6 Pack Soft Drink"
        ],
        [
         "3886",
         "6 Pack Soft Drink"
        ],
        [
         "2108",
         "6 Pack Soft Drink"
        ],
        [
         "3010",
         "6 Pack Soft Drink"
        ],
        [
         "4535",
         "6 Pack Soft Drink"
        ],
        [
         "4169",
         "6 Pack Soft Drink"
        ],
        [
         "4174",
         "6 Pack Soft Drink"
        ],
        [
         "4527",
         "6 Pack Soft Drink"
        ],
        [
         "4522",
         "6 Pack Soft Drink"
        ],
        [
         "3806",
         "6 Pack Soft Drink"
        ],
        [
         "2389",
         "6 Pack Soft Drink"
        ],
        [
         "3132",
         "6 Pack Soft Drink"
        ],
        [
         "3141",
         "6 Pack Soft Drink"
        ],
        [
         "639",
         "6 Pack Soft Drink"
        ],
        [
         "1026",
         "6 Pack Soft Drink"
        ],
        [
         "1051",
         "6 Pack Soft Drink"
        ],
        [
         "2232",
         "6 Pack Soft Drink"
        ],
        [
         "2374",
         "6 Pack Soft Drink"
        ],
        [
         "1260",
         "6 Pack Soft Drink"
        ],
        [
         "879",
         "6 Pack Soft Drink"
        ],
        [
         "3693",
         "6 Pack Soft Drink"
        ],
        [
         "3789",
         "6 Pack Soft Drink"
        ],
        [
         "2793",
         "6 Pack Soft Drink"
        ],
        [
         "2860",
         "6 Pack Soft Drink"
        ],
        [
         "1392",
         "6 Pack Soft Drink"
        ],
        [
         "3600",
         "6 Pack Soft Drink"
        ],
        [
         "3614",
         "6 Pack Soft Drink"
        ],
        [
         "4359",
         "6 Pack Soft Drink"
        ],
        [
         "4363",
         "6 Pack Soft Drink"
        ],
        [
         "3633",
         "6 Pack Soft Drink"
        ],
        [
         "388",
         "6 Pack Soft Drink"
        ],
        [
         "721",
         "6 Pack Soft Drink"
        ],
        [
         "417",
         "6 Pack Soft Drink"
        ],
        [
         "1758",
         "6 Pack Soft Drink"
        ],
        [
         "3766",
         "6 Pack Soft Drink"
        ]
       ],
       "shape": {
        "columns": 1,
        "rows": 4622
       }
      },
      "text/plain": [
       "3389    6 Pack Soft Drink\n",
       "341     6 Pack Soft Drink\n",
       "1849    6 Pack Soft Drink\n",
       "1860    6 Pack Soft Drink\n",
       "2713    6 Pack Soft Drink\n",
       "              ...        \n",
       "2384    Veggie Soft Tacos\n",
       "781     Veggie Soft Tacos\n",
       "2851    Veggie Soft Tacos\n",
       "1699    Veggie Soft Tacos\n",
       "1395    Veggie Soft Tacos\n",
       "Name: item_name, Length: 4622, dtype: object"
      ]
     },
     "execution_count": 61,
     "metadata": {},
     "output_type": "execute_result"
    }
   ],
   "source": [
    "chipo.item_name.sort_values(ascending=True)"
   ]
  },
  {
   "cell_type": "markdown",
   "metadata": {},
   "source": [
    "### Step 7. What was the quantity of the most expensive item ordered?"
   ]
  },
  {
   "cell_type": "code",
   "execution_count": 69,
   "metadata": {
    "collapsed": false
   },
   "outputs": [
    {
     "data": {
      "application/vnd.microsoft.datawrangler.viewer.v0+json": {
       "columns": [
        {
         "name": "index",
         "rawType": "int64",
         "type": "integer"
        },
        {
         "name": "order_id",
         "rawType": "int64",
         "type": "integer"
        },
        {
         "name": "quantity",
         "rawType": "int64",
         "type": "integer"
        },
        {
         "name": "item_name",
         "rawType": "object",
         "type": "string"
        },
        {
         "name": "choice_description",
         "rawType": "object",
         "type": "unknown"
        },
        {
         "name": "item_price",
         "rawType": "object",
         "type": "string"
        },
        {
         "name": "item_price_numeric",
         "rawType": "float64",
         "type": "float"
        }
       ],
       "ref": "13b989a8-34ea-46a0-81f1-a25b98f86398",
       "rows": [
        [
         "34",
         "17",
         "1",
         "Bottled Water",
         null,
         "$1.09 ",
         "1.09"
        ]
       ],
       "shape": {
        "columns": 6,
        "rows": 1
       }
      },
      "text/html": [
       "<div>\n",
       "<style scoped>\n",
       "    .dataframe tbody tr th:only-of-type {\n",
       "        vertical-align: middle;\n",
       "    }\n",
       "\n",
       "    .dataframe tbody tr th {\n",
       "        vertical-align: top;\n",
       "    }\n",
       "\n",
       "    .dataframe thead th {\n",
       "        text-align: right;\n",
       "    }\n",
       "</style>\n",
       "<table border=\"1\" class=\"dataframe\">\n",
       "  <thead>\n",
       "    <tr style=\"text-align: right;\">\n",
       "      <th></th>\n",
       "      <th>order_id</th>\n",
       "      <th>quantity</th>\n",
       "      <th>item_name</th>\n",
       "      <th>choice_description</th>\n",
       "      <th>item_price</th>\n",
       "      <th>item_price_numeric</th>\n",
       "    </tr>\n",
       "  </thead>\n",
       "  <tbody>\n",
       "    <tr>\n",
       "      <th>34</th>\n",
       "      <td>17</td>\n",
       "      <td>1</td>\n",
       "      <td>Bottled Water</td>\n",
       "      <td>NaN</td>\n",
       "      <td>$1.09</td>\n",
       "      <td>1.09</td>\n",
       "    </tr>\n",
       "  </tbody>\n",
       "</table>\n",
       "</div>"
      ],
      "text/plain": [
       "    order_id  quantity      item_name choice_description item_price  \\\n",
       "34        17         1  Bottled Water                NaN     $1.09    \n",
       "\n",
       "    item_price_numeric  \n",
       "34                1.09  "
      ]
     },
     "execution_count": 69,
     "metadata": {},
     "output_type": "execute_result"
    }
   ],
   "source": [
    "chipo.sort_values(by='item_price_numeric').head(1)"
   ]
  },
  {
   "cell_type": "markdown",
   "metadata": {},
   "source": [
    "### Step 8. How many times was a Veggie Salad Bowl ordered?"
   ]
  },
  {
   "cell_type": "code",
   "execution_count": 70,
   "metadata": {
    "collapsed": false
   },
   "outputs": [
    {
     "data": {
      "text/plain": [
       "18"
      ]
     },
     "execution_count": 70,
     "metadata": {},
     "output_type": "execute_result"
    }
   ],
   "source": [
    "len(chipo[chipo['item_name'] == 'Veggie Salad Bowl'])"
   ]
  },
  {
   "cell_type": "markdown",
   "metadata": {},
   "source": [
    "### Step 9. How many times did someone order more than one Canned Soda?"
   ]
  },
  {
   "cell_type": "code",
   "execution_count": null,
   "metadata": {
    "collapsed": false
   },
   "outputs": [],
   "source": []
  }
 ],
 "metadata": {
  "kernelspec": {
   "display_name": ".venv",
   "language": "python",
   "name": "python3"
  },
  "language_info": {
   "codemirror_mode": {
    "name": "ipython",
    "version": 3
   },
   "file_extension": ".py",
   "mimetype": "text/x-python",
   "name": "python",
   "nbconvert_exporter": "python",
   "pygments_lexer": "ipython3",
   "version": "3.12.3"
  }
 },
 "nbformat": 4,
 "nbformat_minor": 0
}
